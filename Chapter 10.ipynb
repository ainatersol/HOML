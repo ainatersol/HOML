{
 "cells": [
  {
   "cell_type": "code",
   "execution_count": 1,
   "id": "81d1c3bd",
   "metadata": {},
   "outputs": [],
   "source": [
    "import numpy as np\n",
    "import matplotlib.pyplot as plt\n",
    "from sklearn.datasets import load_iris\n",
    "from sklearn.linear_model import Perceptron"
   ]
  },
  {
   "cell_type": "code",
   "execution_count": 2,
   "id": "ae380567",
   "metadata": {},
   "outputs": [],
   "source": [
    "iris = load_iris(as_frame=True)\n",
    "X = iris.data[[\"petal length (cm)\", \"petal width (cm)\"]].values\n",
    "y = (iris.target == 0) # one type of iris\n",
    "\n",
    "per_clf = Perceptron(random_state=42)\n",
    "per_clf.fit(X,y)\n",
    "\n",
    "X_new = [[2,0.5], [3,1]]\n",
    "y_pred = per_clf.predict(X_new)"
   ]
  },
  {
   "cell_type": "code",
   "execution_count": 3,
   "id": "695844bb",
   "metadata": {},
   "outputs": [],
   "source": [
    "from sklearn.datasets import fetch_california_housing\n",
    "from sklearn.metrics import mean_squared_error\n",
    "from sklearn.model_selection import train_test_split\n",
    "from sklearn.neural_network import MLPRegressor\n",
    "from sklearn.pipeline import make_pipeline\n",
    "from sklearn.preprocessing import StandardScaler"
   ]
  },
  {
   "cell_type": "code",
   "execution_count": 4,
   "id": "54f25ca3",
   "metadata": {},
   "outputs": [],
   "source": [
    "housing = fetch_california_housing()\n",
    "X_train_full, X_test, y_train_full, y_test = train_test_split(housing.data,\n",
    "                                                              housing.target,\n",
    "                                                             random_state=42)\n",
    "X_train, X_valid, y_train, y_valid = train_test_split(X_train_full, \n",
    "                                                      y_train_full, \n",
    "                                                      random_state=42)"
   ]
  },
  {
   "cell_type": "code",
   "execution_count": 5,
   "id": "ba013790",
   "metadata": {},
   "outputs": [
    {
     "data": {
      "text/plain": [
       "sklearn.utils._bunch.Bunch"
      ]
     },
     "execution_count": 5,
     "metadata": {},
     "output_type": "execute_result"
    }
   ],
   "source": [
    "type(housing)"
   ]
  },
  {
   "cell_type": "code",
   "execution_count": 6,
   "id": "3e661679",
   "metadata": {},
   "outputs": [],
   "source": [
    "# regression\n",
    "mlp_reg = MLPRegressor(hidden_layer_sizes=[50, 50, 50], random_state=42)\n",
    "pipeline = make_pipeline(StandardScaler(), mlp_reg)\n",
    "pipeline.fit(X_train, y_train)\n",
    "y_pred = pipeline.predict(X_valid)\n",
    "rmse = mean_squared_error(y_valid, y_pred, squared=False)"
   ]
  },
  {
   "cell_type": "code",
   "execution_count": 7,
   "id": "884f227d",
   "metadata": {
    "scrolled": true
   },
   "outputs": [
    {
     "name": "stdout",
     "output_type": "stream",
     "text": [
      "0.0\n",
      "0.13157894736842105\n"
     ]
    },
    {
     "name": "stderr",
     "output_type": "stream",
     "text": [
      "/Users/aina/opt/anaconda3/lib/python3.9/site-packages/sklearn/neural_network/_multilayer_perceptron.py:679: ConvergenceWarning: Stochastic Optimizer: Maximum iterations (200) reached and the optimization hasn't converged yet.\n",
      "  warnings.warn(\n",
      "/Users/aina/opt/anaconda3/lib/python3.9/site-packages/sklearn/neural_network/_multilayer_perceptron.py:679: ConvergenceWarning: Stochastic Optimizer: Maximum iterations (200) reached and the optimization hasn't converged yet.\n",
      "  warnings.warn(\n"
     ]
    },
    {
     "data": {
      "text/plain": [
       "<sklearn.metrics._plot.confusion_matrix.ConfusionMatrixDisplay at 0x7fb8dffc0f70>"
      ]
     },
     "execution_count": 7,
     "metadata": {},
     "output_type": "execute_result"
    },
    {
     "data": {
      "image/png": "[encoded data removed]",
      "text/plain": [
       "<Figure size 432x288 with 2 Axes>"
      ]
     },
     "metadata": {
      "needs_background": "light"
     },
     "output_type": "display_data"
    },
    {
     "data": {
      "image/png": "[encoded data removed]",
      "text/plain": [
       "<Figure size 432x288 with 2 Axes>"
      ]
     },
     "metadata": {
      "needs_background": "light"
     },
     "output_type": "display_data"
    }
   ],
   "source": [
    "# multilabel binary classification -> iris\n",
    "from sklearn.neural_network import MLPClassifier\n",
    "\n",
    "X = iris.data[[\"petal length (cm)\", \"petal width (cm)\"]].values\n",
    "y = (iris.target == 0)\n",
    "\n",
    "X_train, X_valid, y_train, y_valid = train_test_split(X, y)\n",
    "\n",
    "mlp_multi_label = MLPClassifier(hidden_layer_sizes=[10],\n",
    "                              activation = 'relu',\n",
    "                              solver = 'adam', \n",
    "                              random_state=42)\n",
    "\n",
    "pipeline_multilabel = make_pipeline(StandardScaler(), mlp_multi_label)\n",
    "pipeline_multilabel.fit(X_train, y_train)\n",
    "y_pred_ml = pipeline_multilabel.predict(X_valid)\n",
    "print(mean_squared_error(y_pred_ml, y_valid))\n",
    "\n",
    "# multiclass\n",
    "from sklearn.metrics import precision_score, recall_score \n",
    "from sklearn.metrics import confusion_matrix, ConfusionMatrixDisplay\n",
    "\n",
    "y = iris.target\n",
    "\n",
    "X_train, X_valid, y_train_mc, y_valid_mc = train_test_split(X, y)\n",
    "mlp_multi_class = MLPClassifier(hidden_layer_sizes=[10],\n",
    "                              activation = 'relu',\n",
    "                              solver = 'adam',\n",
    "                              random_state=42)\n",
    "\n",
    "\n",
    "pipeline_multiclass = make_pipeline(StandardScaler(), mlp_multi_class)\n",
    "pipeline_multiclass.fit(X_train, y_train_mc)\n",
    "y_pred_mc = pipeline_multiclass.predict(X_valid)\n",
    "print(mean_squared_error(y_pred_mc, y_valid_mc))\n",
    "\n",
    "\n",
    "ConfusionMatrixDisplay.from_predictions(y_pred_mc, y_valid_mc)\n",
    "ConfusionMatrixDisplay.from_predictions(y_pred_ml, y_valid)"
   ]
  },
  {
   "cell_type": "code",
   "execution_count": 46,
   "id": "471a15b7",
   "metadata": {},
   "outputs": [],
   "source": [
    "import tensorflow as tf\n",
    "\n",
    "fashion_mnist = tf.keras.datasets.fashion_mnist.load_data()\n",
    "(X_train_full, y_train_full), (X_test, y_test) = fashion_mnist\n",
    "X_train, y_train = X_train_full[:-5000], y_train_full[:-5000]\n",
    "X_valid, y_valid = X_train_full[-5000:], y_train_full[-5000:]"
   ]
  },
  {
   "cell_type": "code",
   "execution_count": 9,
   "id": "5c5f7c20",
   "metadata": {},
   "outputs": [
    {
     "data": {
      "text/plain": [
       "(55000, 28, 28)"
      ]
     },
     "execution_count": 9,
     "metadata": {},
     "output_type": "execute_result"
    }
   ],
   "source": [
    "X_train.shape"
   ]
  },
  {
   "cell_type": "code",
   "execution_count": 10,
   "id": "806484f9",
   "metadata": {},
   "outputs": [
    {
     "data": {
      "text/plain": [
       "dtype('uint8')"
      ]
     },
     "execution_count": 10,
     "metadata": {},
     "output_type": "execute_result"
    }
   ],
   "source": [
    "X_train.dtype"
   ]
  },
  {
   "cell_type": "code",
   "execution_count": 47,
   "id": "f0bc5313",
   "metadata": {},
   "outputs": [],
   "source": [
    "X_train, X_valid, X_test = X_train / 255., X_valid / 255., X_test / 255."
   ]
  },
  {
   "cell_type": "code",
   "execution_count": 12,
   "id": "6311b1c1",
   "metadata": {},
   "outputs": [],
   "source": [
    "class_names = [\"T-shirt/top\", \"Trouser\", \"Pullover\", \"Dress\", \"Coat\",\n",
    "               \"Sandal\", \"Shirt\", \"Sneaker\", \"Bag\", \"Ankle boot\"]"
   ]
  },
  {
   "cell_type": "code",
   "execution_count": 13,
   "id": "71cb18da",
   "metadata": {},
   "outputs": [
    {
     "name": "stdout",
     "output_type": "stream",
     "text": [
      "Ankle boot\n"
     ]
    },
    {
     "data": {
      "image/png": "[encoded data removed]",
      "text/plain": [
       "<Figure size 432x288 with 1 Axes>"
      ]
     },
     "metadata": {
      "needs_background": "light"
     },
     "output_type": "display_data"
    }
   ],
   "source": [
    "print(class_names[y_train[0]])\n",
    "\n",
    "ax = plt.imshow(X_train[0])\n",
    "ax.title = class_names[y_train[0]]\n",
    "\n"
   ]
  },
  {
   "cell_type": "code",
   "execution_count": 14,
   "id": "e4c9d95b",
   "metadata": {},
   "outputs": [
    {
     "name": "stderr",
     "output_type": "stream",
     "text": [
      "2023-02-19 09:20:29.000948: I tensorflow/core/platform/cpu_feature_guard.cc:193] This TensorFlow binary is optimized with oneAPI Deep Neural Network Library (oneDNN) to use the following CPU instructions in performance-critical operations:  AVX2 FMA\n",
      "To enable them in other operations, rebuild TensorFlow with the appropriate compiler flags.\n"
     ]
    }
   ],
   "source": [
    "tf.random.set_seed(42)\n",
    "model = tf.keras.Sequential()\n",
    "model.add(tf.keras.layers.Input(shape=[28,28]))\n",
    "model.add(tf.keras.layers.Flatten())\n",
    "model.add(tf.keras.layers.Dense(300, activation='relu'))\n",
    "model.add(tf.keras.layers.Dense(100, activation='relu'))\n",
    "model.add(tf.keras.layers.Dense(10, activation='softmax'))"
   ]
  },
  {
   "cell_type": "code",
   "execution_count": 15,
   "id": "dff911b9",
   "metadata": {},
   "outputs": [],
   "source": [
    "model = tf.keras.Sequential([\n",
    "    tf.keras.layers.Flatten(input_shape=[28,28]),\n",
    "    tf.keras.layers.Dense(300, activation='relu'),\n",
    "    tf.keras.layers.Dense(100, activation='relu'),\n",
    "    tf.keras.layers.Dense(10, activation='softmax')\n",
    "])"
   ]
  },
  {
   "cell_type": "code",
   "execution_count": 16,
   "id": "9e6c67b5",
   "metadata": {},
   "outputs": [
    {
     "name": "stdout",
     "output_type": "stream",
     "text": [
      "Model: \"sequential_1\"\n",
      "_________________________________________________________________\n",
      " Layer (type)                Output Shape              Param #   \n",
      "=================================================================\n",
      " flatten_1 (Flatten)         (None, 784)               0         \n",
      "                                                                 \n",
      " dense_3 (Dense)             (None, 300)               235500    \n",
      "                                                                 \n",
      " dense_4 (Dense)             (None, 100)               30100     \n",
      "                                                                 \n",
      " dense_5 (Dense)             (None, 10)                1010      \n",
      "                                                                 \n",
      "=================================================================\n",
      "Total params: 266,610\n",
      "Trainable params: 266,610\n",
      "Non-trainable params: 0\n",
      "_________________________________________________________________\n"
     ]
    }
   ],
   "source": [
    "model.summary()"
   ]
  },
  {
   "cell_type": "code",
   "execution_count": 17,
   "id": "67ed38a4",
   "metadata": {},
   "outputs": [
    {
     "data": {
      "text/plain": [
       "[<keras.layers.reshaping.flatten.Flatten at 0x7fb8b8d1f820>,\n",
       " <keras.layers.core.dense.Dense at 0x7fb8b8d48c70>,\n",
       " <keras.layers.core.dense.Dense at 0x7fb8b8d48fd0>,\n",
       " <keras.layers.core.dense.Dense at 0x7fb8adb17610>]"
      ]
     },
     "execution_count": 17,
     "metadata": {},
     "output_type": "execute_result"
    }
   ],
   "source": [
    "model.layers"
   ]
  },
  {
   "cell_type": "code",
   "execution_count": 18,
   "id": "7d338e14",
   "metadata": {},
   "outputs": [
    {
     "name": "stdout",
     "output_type": "stream",
     "text": [
      "(784, 300) (300,)\n"
     ]
    }
   ],
   "source": [
    "weights, biases = model.layers[1].get_weights()\n",
    "print(weights.shape, biases.shape)"
   ]
  },
  {
   "cell_type": "code",
   "execution_count": 19,
   "id": "a2a24402",
   "metadata": {},
   "outputs": [],
   "source": [
    "model.compile(loss = 'sparse_categorical_crossentropy',\n",
    "             optimizer = 'sgd',\n",
    "             metrics = [\"accuracy\"])"
   ]
  },
  {
   "cell_type": "code",
   "execution_count": 20,
   "id": "f7510732",
   "metadata": {
    "scrolled": true
   },
   "outputs": [
    {
     "name": "stdout",
     "output_type": "stream",
     "text": [
      "Epoch 1/30\n",
      "1719/1719 [==============================] - 4s 2ms/step - loss: 0.7156 - accuracy: 0.7613 - val_loss: 0.5030 - val_accuracy: 0.8302\n",
      "Epoch 2/30\n",
      "1719/1719 [==============================] - 4s 2ms/step - loss: 0.4865 - accuracy: 0.8315 - val_loss: 0.4616 - val_accuracy: 0.8360\n",
      "Epoch 3/30\n",
      "1719/1719 [==============================] - 4s 2ms/step - loss: 0.4396 - accuracy: 0.8450 - val_loss: 0.4209 - val_accuracy: 0.8542\n",
      "Epoch 4/30\n",
      "1719/1719 [==============================] - 4s 2ms/step - loss: 0.4139 - accuracy: 0.8549 - val_loss: 0.3947 - val_accuracy: 0.8602\n",
      "Epoch 5/30\n",
      "1719/1719 [==============================] - 4s 2ms/step - loss: 0.3931 - accuracy: 0.8622 - val_loss: 0.3874 - val_accuracy: 0.8612\n",
      "Epoch 6/30\n",
      "1719/1719 [==============================] - 7s 4ms/step - loss: 0.3772 - accuracy: 0.8677 - val_loss: 0.3921 - val_accuracy: 0.8622\n",
      "Epoch 7/30\n",
      "1719/1719 [==============================] - 6s 4ms/step - loss: 0.3652 - accuracy: 0.8706 - val_loss: 0.3690 - val_accuracy: 0.8694\n",
      "Epoch 8/30\n",
      "1719/1719 [==============================] - 4s 2ms/step - loss: 0.3536 - accuracy: 0.8756 - val_loss: 0.3706 - val_accuracy: 0.8646\n",
      "Epoch 9/30\n",
      "1719/1719 [==============================] - 4s 2ms/step - loss: 0.3430 - accuracy: 0.8790 - val_loss: 0.3467 - val_accuracy: 0.8740\n",
      "Epoch 10/30\n",
      "1719/1719 [==============================] - 4s 2ms/step - loss: 0.3330 - accuracy: 0.8812 - val_loss: 0.3521 - val_accuracy: 0.8752\n",
      "Epoch 11/30\n",
      "1719/1719 [==============================] - 4s 2ms/step - loss: 0.3245 - accuracy: 0.8849 - val_loss: 0.3690 - val_accuracy: 0.8670\n",
      "Epoch 12/30\n",
      "1719/1719 [==============================] - 4s 2ms/step - loss: 0.3164 - accuracy: 0.8861 - val_loss: 0.3434 - val_accuracy: 0.8784\n",
      "Epoch 13/30\n",
      "1719/1719 [==============================] - 4s 2ms/step - loss: 0.3088 - accuracy: 0.8906 - val_loss: 0.3280 - val_accuracy: 0.8798\n",
      "Epoch 14/30\n",
      "1719/1719 [==============================] - 4s 2ms/step - loss: 0.3020 - accuracy: 0.8914 - val_loss: 0.3400 - val_accuracy: 0.8796\n",
      "Epoch 15/30\n",
      "1719/1719 [==============================] - 4s 2ms/step - loss: 0.2957 - accuracy: 0.8951 - val_loss: 0.3355 - val_accuracy: 0.8804\n",
      "Epoch 16/30\n",
      "1719/1719 [==============================] - 4s 2ms/step - loss: 0.2887 - accuracy: 0.8962 - val_loss: 0.3287 - val_accuracy: 0.8820\n",
      "Epoch 17/30\n",
      "1719/1719 [==============================] - 4s 3ms/step - loss: 0.2840 - accuracy: 0.8971 - val_loss: 0.3302 - val_accuracy: 0.8798\n",
      "Epoch 18/30\n",
      "1719/1719 [==============================] - 4s 2ms/step - loss: 0.2782 - accuracy: 0.8999 - val_loss: 0.3255 - val_accuracy: 0.8830\n",
      "Epoch 19/30\n",
      "1719/1719 [==============================] - 4s 2ms/step - loss: 0.2728 - accuracy: 0.9016 - val_loss: 0.3517 - val_accuracy: 0.8700\n",
      "Epoch 20/30\n",
      "1719/1719 [==============================] - 4s 2ms/step - loss: 0.2680 - accuracy: 0.9039 - val_loss: 0.3222 - val_accuracy: 0.8860\n",
      "Epoch 21/30\n",
      "1719/1719 [==============================] - 4s 3ms/step - loss: 0.2632 - accuracy: 0.9044 - val_loss: 0.3142 - val_accuracy: 0.8850\n",
      "Epoch 22/30\n",
      "1719/1719 [==============================] - 4s 3ms/step - loss: 0.2579 - accuracy: 0.9071 - val_loss: 0.3152 - val_accuracy: 0.8854\n",
      "Epoch 23/30\n",
      "1719/1719 [==============================] - 4s 2ms/step - loss: 0.2538 - accuracy: 0.9101 - val_loss: 0.3429 - val_accuracy: 0.8786\n",
      "Epoch 24/30\n",
      "1719/1719 [==============================] - 4s 2ms/step - loss: 0.2487 - accuracy: 0.9102 - val_loss: 0.3148 - val_accuracy: 0.8866\n",
      "Epoch 25/30\n",
      "1719/1719 [==============================] - 4s 2ms/step - loss: 0.2450 - accuracy: 0.9116 - val_loss: 0.3179 - val_accuracy: 0.8842\n",
      "Epoch 26/30\n",
      "1719/1719 [==============================] - 4s 2ms/step - loss: 0.2412 - accuracy: 0.9140 - val_loss: 0.3125 - val_accuracy: 0.8898\n",
      "Epoch 27/30\n",
      "1719/1719 [==============================] - 4s 2ms/step - loss: 0.2361 - accuracy: 0.9146 - val_loss: 0.3192 - val_accuracy: 0.8880\n",
      "Epoch 28/30\n",
      "1719/1719 [==============================] - 4s 2ms/step - loss: 0.2337 - accuracy: 0.9163 - val_loss: 0.3074 - val_accuracy: 0.8890\n",
      "Epoch 29/30\n",
      "1719/1719 [==============================] - 4s 2ms/step - loss: 0.2293 - accuracy: 0.9178 - val_loss: 0.3169 - val_accuracy: 0.8874\n",
      "Epoch 30/30\n",
      "1719/1719 [==============================] - 4s 2ms/step - loss: 0.2254 - accuracy: 0.9207 - val_loss: 0.3072 - val_accuracy: 0.8888\n"
     ]
    }
   ],
   "source": [
    "history = model.fit(X_train, y_train, epochs=30, validation_data=(X_valid, y_valid))"
   ]
  },
  {
   "cell_type": "code",
   "execution_count": 21,
   "id": "fd774e6d",
   "metadata": {},
   "outputs": [
    {
     "data": {
      "image/png": "[encoded data removed]",
      "text/plain": [
       "<Figure size 576x360 with 1 Axes>"
      ]
     },
     "metadata": {
      "needs_background": "light"
     },
     "output_type": "display_data"
    }
   ],
   "source": [
    "import pandas as pd\n",
    "pd.DataFrame(history.history).plot(\n",
    "    figsize=(8,5), xlim=[0,29], ylim=[0,1], grid=True, xlabel='Epoch',\n",
    "    style=[\"r--\", \"r--.\", \"b-\", \"b-*\"]\n",
    "    )\n",
    "plt.show()"
   ]
  },
  {
   "cell_type": "code",
   "execution_count": 22,
   "id": "1fac86a7",
   "metadata": {},
   "outputs": [
    {
     "name": "stdout",
     "output_type": "stream",
     "text": [
      "313/313 [==============================] - 0s 1ms/step - loss: 0.3262 - accuracy: 0.8854\n"
     ]
    },
    {
     "data": {
      "text/plain": [
       "[0.32616522908210754, 0.8853999972343445]"
      ]
     },
     "execution_count": 22,
     "metadata": {},
     "output_type": "execute_result"
    }
   ],
   "source": [
    "model.evaluate(X_test, y_test)"
   ]
  },
  {
   "cell_type": "code",
   "execution_count": 23,
   "id": "bac6e98c",
   "metadata": {},
   "outputs": [
    {
     "name": "stdout",
     "output_type": "stream",
     "text": [
      "1/1 [==============================] - 0s 85ms/step\n"
     ]
    },
    {
     "data": {
      "text/plain": [
       "array([[0.  , 0.  , 0.  , 0.  , 0.  , 0.  , 0.  , 0.02, 0.  , 0.98],\n",
       "       [0.  , 0.  , 1.  , 0.  , 0.  , 0.  , 0.  , 0.  , 0.  , 0.  ],\n",
       "       [0.  , 1.  , 0.  , 0.  , 0.  , 0.  , 0.  , 0.  , 0.  , 0.  ]],\n",
       "      dtype=float32)"
      ]
     },
     "execution_count": 23,
     "metadata": {},
     "output_type": "execute_result"
    }
   ],
   "source": [
    "X_new = X_test[:3]\n",
    "y_proba = model.predict(X_new)\n",
    "y_proba.round(2)"
   ]
  },
  {
   "cell_type": "code",
   "execution_count": 24,
   "id": "30a1405b",
   "metadata": {},
   "outputs": [
    {
     "data": {
      "text/plain": [
       "array([9, 2, 1])"
      ]
     },
     "execution_count": 24,
     "metadata": {},
     "output_type": "execute_result"
    }
   ],
   "source": [
    "y_pred = y_proba.argmax(axis=-1)\n",
    "y_pred"
   ]
  },
  {
   "cell_type": "code",
   "execution_count": 25,
   "id": "7bbbbe4a",
   "metadata": {},
   "outputs": [
    {
     "data": {
      "text/plain": [
       "array(['Ankle boot', 'Pullover', 'Trouser'], dtype='<U11')"
      ]
     },
     "execution_count": 25,
     "metadata": {},
     "output_type": "execute_result"
    }
   ],
   "source": [
    "import numpy as np\n",
    "np.array(class_names)[y_pred]"
   ]
  },
  {
   "cell_type": "code",
   "execution_count": 26,
   "id": "084df00e",
   "metadata": {
    "scrolled": true
   },
   "outputs": [
    {
     "data": {
      "text/plain": [
       "array([9, 2, 1], dtype=uint8)"
      ]
     },
     "execution_count": 26,
     "metadata": {},
     "output_type": "execute_result"
    },
    {
     "data": {
      "image/png": "[encoded data removed]",
      "text/plain": [
       "<Figure size 432x288 with 1 Axes>"
      ]
     },
     "metadata": {
      "needs_background": "light"
     },
     "output_type": "display_data"
    },
    {
     "data": {
      "image/png": "[encoded data removed]",
      "text/plain": [
       "<Figure size 432x288 with 1 Axes>"
      ]
     },
     "metadata": {
      "needs_background": "light"
     },
     "output_type": "display_data"
    },
    {
     "data": {
      "image/png": "[encoded data removed]",
      "text/plain": [
       "<Figure size 432x288 with 1 Axes>"
      ]
     },
     "metadata": {
      "needs_background": "light"
     },
     "output_type": "display_data"
    }
   ],
   "source": [
    "for i in range(0,3):\n",
    "    plt.figure()\n",
    "    plt.imshow(X_test[i])\n",
    "y_test[:3]"
   ]
  },
  {
   "cell_type": "code",
   "execution_count": 67,
   "id": "da86c38b",
   "metadata": {},
   "outputs": [
    {
     "name": "stdout",
     "output_type": "stream",
     "text": [
      "(11610, 8)\n"
     ]
    }
   ],
   "source": [
    "# Building a regression MLP using the sequential API\n",
    "from sklearn.datasets import fetch_california_housing\n",
    "from sklearn.model_selection import train_test_split\n",
    "import tensorflow as tf\n",
    "\n",
    "housing = fetch_california_housing()\n",
    "\n",
    "X_train, X_test, y_train, y_test = train_test_split(housing.data, housing.target, random_state=42)\n",
    "X_train, X_val, y_train, y_val = train_test_split(X_train, y_train, random_state=42)\n",
    "\n",
    "print(X_train.shape)\n",
    "\n",
    "tf.random.set_seed(42)\n",
    "norm_layer = tf.keras.layers.Normalization(input_shape=X_train.shape[1:])\n",
    "model = tf.keras.Sequential([\n",
    "    norm_layer,\n",
    "    tf.keras.layers.Dense(50, activation='relu'),\n",
    "    tf.keras.layers.Dense(50, activation='relu'),\n",
    "    tf.keras.layers.Dense(50, activation='relu'),\n",
    "    tf.keras.layers.Dense(1)\n",
    "                            ])\n",
    "optimizer = tf.keras.optimizers.Adam(learning_rate=1e-3)\n",
    "model.compile(optimizer=optimizer, loss='mse', metrics=[\"RootMeanSquaredError\"])\n",
    "norm_layer.adapt(X_train)\n"
   ]
  },
  {
   "cell_type": "code",
   "execution_count": 28,
   "id": "2d17c400",
   "metadata": {
    "scrolled": true
   },
   "outputs": [
    {
     "name": "stdout",
     "output_type": "stream",
     "text": [
      "Epoch 1/20\n",
      "363/363 [==============================] - 1s 2ms/step - loss: 0.9530 - root_mean_squared_error: 0.9762 - val_loss: 0.4201 - val_root_mean_squared_error: 0.6481\n",
      "Epoch 2/20\n",
      "363/363 [==============================] - 1s 2ms/step - loss: 0.3920 - root_mean_squared_error: 0.6261 - val_loss: 0.9657 - val_root_mean_squared_error: 0.9827\n",
      "Epoch 3/20\n",
      "363/363 [==============================] - 1s 2ms/step - loss: 0.3604 - root_mean_squared_error: 0.6003 - val_loss: 0.3191 - val_root_mean_squared_error: 0.5649\n",
      "Epoch 4/20\n",
      "363/363 [==============================] - 1s 2ms/step - loss: 0.3418 - root_mean_squared_error: 0.5846 - val_loss: 0.5328 - val_root_mean_squared_error: 0.7299\n",
      "Epoch 5/20\n",
      "363/363 [==============================] - 1s 3ms/step - loss: 0.3294 - root_mean_squared_error: 0.5739 - val_loss: 0.5154 - val_root_mean_squared_error: 0.7179\n",
      "Epoch 6/20\n",
      "363/363 [==============================] - 1s 2ms/step - loss: 0.3192 - root_mean_squared_error: 0.5650 - val_loss: 0.3055 - val_root_mean_squared_error: 0.5527\n",
      "Epoch 7/20\n",
      "363/363 [==============================] - 1s 2ms/step - loss: 0.3135 - root_mean_squared_error: 0.5599 - val_loss: 0.3322 - val_root_mean_squared_error: 0.5764\n",
      "Epoch 8/20\n",
      "363/363 [==============================] - 1s 2ms/step - loss: 0.3039 - root_mean_squared_error: 0.5513 - val_loss: 0.6686 - val_root_mean_squared_error: 0.8177\n",
      "Epoch 9/20\n",
      "363/363 [==============================] - 1s 2ms/step - loss: 0.3044 - root_mean_squared_error: 0.5517 - val_loss: 0.7152 - val_root_mean_squared_error: 0.8457\n",
      "Epoch 10/20\n",
      "363/363 [==============================] - 1s 2ms/step - loss: 0.2993 - root_mean_squared_error: 0.5471 - val_loss: 0.6563 - val_root_mean_squared_error: 0.8101\n",
      "Epoch 11/20\n",
      "363/363 [==============================] - 1s 2ms/step - loss: 0.2906 - root_mean_squared_error: 0.5391 - val_loss: 0.2823 - val_root_mean_squared_error: 0.5313\n",
      "Epoch 12/20\n",
      "363/363 [==============================] - 1s 2ms/step - loss: 0.2943 - root_mean_squared_error: 0.5425 - val_loss: 0.4303 - val_root_mean_squared_error: 0.6560\n",
      "Epoch 13/20\n",
      "363/363 [==============================] - 1s 2ms/step - loss: 0.2849 - root_mean_squared_error: 0.5337 - val_loss: 0.2831 - val_root_mean_squared_error: 0.5321\n",
      "Epoch 14/20\n",
      "363/363 [==============================] - 1s 2ms/step - loss: 0.2842 - root_mean_squared_error: 0.5331 - val_loss: 0.3031 - val_root_mean_squared_error: 0.5506\n",
      "Epoch 15/20\n",
      "363/363 [==============================] - 1s 2ms/step - loss: 0.2805 - root_mean_squared_error: 0.5296 - val_loss: 0.2763 - val_root_mean_squared_error: 0.5256\n",
      "Epoch 16/20\n",
      "363/363 [==============================] - 1s 2ms/step - loss: 0.2791 - root_mean_squared_error: 0.5283 - val_loss: 0.2838 - val_root_mean_squared_error: 0.5328\n",
      "Epoch 17/20\n",
      "363/363 [==============================] - 1s 2ms/step - loss: 0.2756 - root_mean_squared_error: 0.5250 - val_loss: 0.4437 - val_root_mean_squared_error: 0.6661\n",
      "Epoch 18/20\n",
      "363/363 [==============================] - 1s 2ms/step - loss: 0.2704 - root_mean_squared_error: 0.5200 - val_loss: 0.2885 - val_root_mean_squared_error: 0.5371\n",
      "Epoch 19/20\n",
      "363/363 [==============================] - 1s 2ms/step - loss: 0.2687 - root_mean_squared_error: 0.5184 - val_loss: 0.4204 - val_root_mean_squared_error: 0.6483\n",
      "Epoch 20/20\n",
      "363/363 [==============================] - 1s 2ms/step - loss: 0.2713 - root_mean_squared_error: 0.5209 - val_loss: 0.2795 - val_root_mean_squared_error: 0.5286\n"
     ]
    }
   ],
   "source": [
    "history = model.fit(X_train, y_train, epochs=20, \n",
    "                    validation_data=(X_val, y_val))"
   ]
  },
  {
   "cell_type": "code",
   "execution_count": 29,
   "id": "3affa694",
   "metadata": {},
   "outputs": [
    {
     "name": "stdout",
     "output_type": "stream",
     "text": [
      "162/162 [==============================] - 0s 1ms/step - loss: 0.2826 - root_mean_squared_error: 0.5316\n",
      "1/1 [==============================] - 0s 62ms/step\n"
     ]
    }
   ],
   "source": [
    "mse_test, rmse_test = model.evaluate(X_test, y_test)\n",
    "X_new = X_test[:3]\n",
    "y_pred = model.predict(X_new)"
   ]
  },
  {
   "cell_type": "code",
   "execution_count": 74,
   "id": "2bf9d0a2",
   "metadata": {},
   "outputs": [],
   "source": [
    "# Building Complex Models Using the Functional API\n",
    "# non-sequential so we can't use the sequential api \n",
    "import tensorflow as tf\n",
    "\n",
    "# Import Data\n",
    "housing = fetch_california_housing()\n",
    "X_train_full, X_test, y_train_full, y_test = train_test_split(\n",
    "    housing.data, housing.target, random_state=42)\n",
    "X_train, X_valid, y_train, y_valid = train_test_split(\n",
    "    X_train_full, y_train_full, random_state=42)\n",
    "\n",
    "\n",
    "#Build network 1 \n",
    "normalization_layer = tf.keras.layers.Normalization()\n",
    "hidden_layer1 = tf.keras.layers.Dense(30, activation='relu')\n",
    "hidden_layer2 = tf.keras.layers.Dense(30, activation='relu')\n",
    "concat_layer = tf.keras.layers.Concatenate()\n",
    "output_layer = tf.keras.layers.Dense(1)\n",
    "\n",
    "input_ = tf.keras.layers.Input(shape=X_train.shape[1:])\n",
    "normalized = normalization_layer(input_)\n",
    "hidden1 = hidden_layer1(normalized)\n",
    "hidden2 = hidden_layer2(hidden1)\n",
    "concat = concat_layer([normalized, hidden2])\n",
    "output = output_layer(concat)\n",
    "\n",
    "model = tf.keras.Model(inputs=[input_], outputs=[output])"
   ]
  },
  {
   "cell_type": "code",
   "execution_count": 75,
   "id": "cb9a781c",
   "metadata": {},
   "outputs": [],
   "source": [
    "#make specific features go thrpugh the dense layer \n",
    "\n",
    "#Build network 2 - with wide and deep specified features\n",
    "input_wide = tf.keras.layers.Input(shape=[5], name=\"input_wide\") #features 0 to 4\n",
    "input_deep = tf.keras.layers.Input(shape=[6], name=\"input_deep\") #features 2 to 7"
   ]
  },
  {
   "cell_type": "code",
   "execution_count": 88,
   "id": "338efd99",
   "metadata": {},
   "outputs": [],
   "source": [
    "norm_layer_wide = tf.keras.layers.Normalization()\n",
    "norm_layer_deep = tf.keras.layers.Normalization()\n",
    "hidden_layer1 = tf.keras.layers.Dense(30, activation='relu')\n",
    "hidden_layer2 = tf.keras.layers.Dense(30, activation='relu')\n",
    "concat_layer = tf.keras.layers.Concatenate()\n",
    "output_layer = tf.keras.layers.Dense(1, name=\"output\")\n",
    "\n",
    "norm_wide = norm_layer_wide(input_wide)\n",
    "norm_deep = norm_layer_deep(input_deep)\n",
    "hidden1 = hidden_layer1(norm_deep)\n",
    "hidden2 = hidden_layer2(hidden1)\n",
    "concat = concat_layer([norm_wide, hidden2])\n",
    "output = output_layer(concat)\n",
    "\n",
    "model = tf.keras.Model(inputs=[input_wide, input_deep], outputs=[output])"
   ]
  },
  {
   "cell_type": "code",
   "execution_count": 89,
   "id": "8232080c",
   "metadata": {
    "scrolled": true
   },
   "outputs": [
    {
     "name": "stdout",
     "output_type": "stream",
     "text": [
      "Epoch 1/20\n",
      "363/363 [==============================] - 1s 2ms/step - loss: 1.2095 - root_mean_squared_error: 1.0998 - val_loss: 0.5678 - val_root_mean_squared_error: 0.7535\n",
      "Epoch 2/20\n",
      "363/363 [==============================] - 1s 2ms/step - loss: 0.4818 - root_mean_squared_error: 0.6941 - val_loss: 0.6268 - val_root_mean_squared_error: 0.7917\n",
      "Epoch 3/20\n",
      "363/363 [==============================] - 1s 2ms/step - loss: 0.4268 - root_mean_squared_error: 0.6533 - val_loss: 0.5767 - val_root_mean_squared_error: 0.7594\n",
      "Epoch 4/20\n",
      "363/363 [==============================] - 1s 2ms/step - loss: 0.4064 - root_mean_squared_error: 0.6375 - val_loss: 0.8982 - val_root_mean_squared_error: 0.9477\n",
      "Epoch 5/20\n",
      "363/363 [==============================] - 1s 2ms/step - loss: 0.3902 - root_mean_squared_error: 0.6246 - val_loss: 0.8390 - val_root_mean_squared_error: 0.9160\n",
      "Epoch 6/20\n",
      "363/363 [==============================] - 1s 2ms/step - loss: 0.3845 - root_mean_squared_error: 0.6201 - val_loss: 0.6777 - val_root_mean_squared_error: 0.8232\n",
      "Epoch 7/20\n",
      "363/363 [==============================] - 1s 2ms/step - loss: 0.3713 - root_mean_squared_error: 0.6094 - val_loss: 1.0131 - val_root_mean_squared_error: 1.0065\n",
      "Epoch 8/20\n",
      "363/363 [==============================] - 1s 2ms/step - loss: 0.3684 - root_mean_squared_error: 0.6069 - val_loss: 4.1313 - val_root_mean_squared_error: 2.0326\n",
      "Epoch 9/20\n",
      "363/363 [==============================] - 1s 2ms/step - loss: 0.3724 - root_mean_squared_error: 0.6103 - val_loss: 4.9835 - val_root_mean_squared_error: 2.2324\n",
      "Epoch 10/20\n",
      "363/363 [==============================] - 1s 3ms/step - loss: 0.3941 - root_mean_squared_error: 0.6278 - val_loss: 0.9706 - val_root_mean_squared_error: 0.9852\n",
      "Epoch 11/20\n",
      "363/363 [==============================] - 1s 2ms/step - loss: 0.3482 - root_mean_squared_error: 0.5901 - val_loss: 0.8977 - val_root_mean_squared_error: 0.9475\n",
      "Epoch 12/20\n",
      "363/363 [==============================] - 1s 2ms/step - loss: 0.3554 - root_mean_squared_error: 0.5962 - val_loss: 0.8184 - val_root_mean_squared_error: 0.9047\n",
      "Epoch 13/20\n",
      "363/363 [==============================] - 1s 2ms/step - loss: 0.3474 - root_mean_squared_error: 0.5894 - val_loss: 1.6733 - val_root_mean_squared_error: 1.2936\n",
      "Epoch 14/20\n",
      "363/363 [==============================] - 1s 2ms/step - loss: 0.3459 - root_mean_squared_error: 0.5881 - val_loss: 1.3949 - val_root_mean_squared_error: 1.1811\n",
      "Epoch 15/20\n",
      "363/363 [==============================] - 1s 2ms/step - loss: 0.3432 - root_mean_squared_error: 0.5859 - val_loss: 2.1528 - val_root_mean_squared_error: 1.4673\n",
      "Epoch 16/20\n",
      "363/363 [==============================] - 1s 2ms/step - loss: 0.3438 - root_mean_squared_error: 0.5863 - val_loss: 1.0722 - val_root_mean_squared_error: 1.0355\n",
      "Epoch 17/20\n",
      "363/363 [==============================] - 1s 2ms/step - loss: 0.3390 - root_mean_squared_error: 0.5822 - val_loss: 1.8612 - val_root_mean_squared_error: 1.3643\n",
      "Epoch 18/20\n",
      "363/363 [==============================] - 1s 2ms/step - loss: 0.3356 - root_mean_squared_error: 0.5793 - val_loss: 0.8281 - val_root_mean_squared_error: 0.9100\n",
      "Epoch 19/20\n",
      "363/363 [==============================] - 1s 2ms/step - loss: 0.3311 - root_mean_squared_error: 0.5754 - val_loss: 1.5736 - val_root_mean_squared_error: 1.2544\n",
      "Epoch 20/20\n",
      "363/363 [==============================] - 1s 2ms/step - loss: 0.3354 - root_mean_squared_error: 0.5791 - val_loss: 0.9410 - val_root_mean_squared_error: 0.9700\n",
      "162/162 [==============================] - 0s 1ms/step - loss: 0.3255 - root_mean_squared_error: 0.5705\n",
      "WARNING:tensorflow:6 out of the last 6 calls to <function Model.make_predict_function.<locals>.predict_function at 0x7fb8ae680c10> triggered tf.function retracing. Tracing is expensive and the excessive number of tracings could be due to (1) creating @tf.function repeatedly in a loop, (2) passing tensors with different shapes, (3) passing Python objects instead of tensors. For (1), please define your @tf.function outside of the loop. For (2), @tf.function has reduce_retracing=True option that can avoid unnecessary retracing. For (3), please refer to https://www.tensorflow.org/guide/function#controlling_retracing and https://www.tensorflow.org/api_docs/python/tf/function for  more details.\n",
      "1/1 [==============================] - 0s 69ms/step\n"
     ]
    }
   ],
   "source": [
    "\n",
    "optimizer = tf.keras.optimizers.Adam(learning_rate=1e-3)\n",
    "model.compile(loss=\"mse\", optimizer=optimizer, metrics=[\"RootMeanSquaredError\"])\n",
    "\n",
    "X_train_wide, X_train_deep = X_train[:, :5], X_train[:, 2:]\n",
    "X_valid_wide, X_valid_deep = X_valid[:, :5], X_valid[:, 2:]\n",
    "X_test_wide, X_test_deep = X_test[:, :5], X_test[:, 2:]\n",
    "X_new_wide, X_new_deep = X_test_wide[:3], X_test_deep[:3]\n",
    "\n",
    "norm_layer_wide.adapt(X_train_wide)\n",
    "norm_layer_deep.adapt(X_train_deep)\n",
    "\n",
    "X_train_d = {\"input_wide\": X_train_wide, \"input_deep\": X_train_deep}\n",
    "X_valid_d = {\"input_wide\": X_valid_wide, \"input_deep\": X_valid_deep}\n",
    "X_test_d = {\"input_wide\": X_test_wide, \"input_deep\": X_test_deep}\n",
    "\n",
    "history = model.fit(X_train_d, y_train, epochs=20,\n",
    "                    validation_data=(X_valid_d, y_valid))\n",
    "mse_test = model.evaluate(X_test_d, y_test)\n",
    "y_pred = model.predict((X_new_wide, X_new_deep))"
   ]
  },
  {
   "cell_type": "code",
   "execution_count": 94,
   "id": "2b9b87bf",
   "metadata": {},
   "outputs": [],
   "source": [
    "# Building an auxiliary output\n",
    "output = tf.keras.layers.Dense(1, name=\"output\")(concat)\n",
    "aux_output = tf.keras.layers.Dense(1, name=\"aux_output\")(hidden2)\n",
    "\n",
    "loss_d={\"output\": \"mse\", \"aux_output\": \"mse\"}\n",
    "\n",
    "model = tf.keras.Model(inputs=[input_wide, input_deep], \n",
    "                     outputs=[output, aux_output])"
   ]
  },
  {
   "cell_type": "code",
   "execution_count": 95,
   "id": "38ea29a5",
   "metadata": {},
   "outputs": [],
   "source": [
    "optimizer = tf.keras.optimizers.Adam(learning_rate=1e-3)\n",
    "model.compile(loss=loss_d, loss_weights=(0.9, 0.1),\n",
    "              optimizer=optimizer, metrics=['RootMeanSquaredError'])"
   ]
  },
  {
   "cell_type": "code",
   "execution_count": 96,
   "id": "1ee5f08a",
   "metadata": {
    "scrolled": true
   },
   "outputs": [
    {
     "name": "stdout",
     "output_type": "stream",
     "text": [
      "Epoch 1/20\n",
      "363/363 [==============================] - 2s 3ms/step - loss: 1.0468 - output_loss: 0.9521 - aux_output_loss: 1.8989 - output_root_mean_squared_error: 0.9758 - aux_output_root_mean_squared_error: 1.3780 - val_loss: 0.5120 - val_output_loss: 0.4949 - val_aux_output_loss: 0.6665 - val_output_root_mean_squared_error: 0.7035 - val_aux_output_root_mean_squared_error: 0.8164\n",
      "Epoch 2/20\n",
      "363/363 [==============================] - 1s 3ms/step - loss: 0.4565 - output_loss: 0.4470 - aux_output_loss: 0.5420 - output_root_mean_squared_error: 0.6686 - aux_output_root_mean_squared_error: 0.7362 - val_loss: 0.4190 - val_output_loss: 0.4130 - val_aux_output_loss: 0.4731 - val_output_root_mean_squared_error: 0.6426 - val_aux_output_root_mean_squared_error: 0.6878\n",
      "Epoch 3/20\n",
      "363/363 [==============================] - 1s 3ms/step - loss: 0.3943 - output_loss: 0.3874 - aux_output_loss: 0.4561 - output_root_mean_squared_error: 0.6225 - aux_output_root_mean_squared_error: 0.6753 - val_loss: 0.3736 - val_output_loss: 0.3658 - val_aux_output_loss: 0.4433 - val_output_root_mean_squared_error: 0.6048 - val_aux_output_root_mean_squared_error: 0.6658\n",
      "Epoch 4/20\n",
      "363/363 [==============================] - 1s 3ms/step - loss: 0.3669 - output_loss: 0.3591 - aux_output_loss: 0.4371 - output_root_mean_squared_error: 0.5993 - aux_output_root_mean_squared_error: 0.6612 - val_loss: 0.3546 - val_output_loss: 0.3467 - val_aux_output_loss: 0.4261 - val_output_root_mean_squared_error: 0.5888 - val_aux_output_root_mean_squared_error: 0.6528\n",
      "Epoch 5/20\n",
      "363/363 [==============================] - 1s 3ms/step - loss: 0.3507 - output_loss: 0.3427 - aux_output_loss: 0.4229 - output_root_mean_squared_error: 0.5854 - aux_output_root_mean_squared_error: 0.6503 - val_loss: 0.3382 - val_output_loss: 0.3299 - val_aux_output_loss: 0.4132 - val_output_root_mean_squared_error: 0.5743 - val_aux_output_root_mean_squared_error: 0.6428\n",
      "Epoch 6/20\n",
      "363/363 [==============================] - 1s 3ms/step - loss: 0.3411 - output_loss: 0.3330 - aux_output_loss: 0.4136 - output_root_mean_squared_error: 0.5771 - aux_output_root_mean_squared_error: 0.6431 - val_loss: 0.3326 - val_output_loss: 0.3245 - val_aux_output_loss: 0.4055 - val_output_root_mean_squared_error: 0.5696 - val_aux_output_root_mean_squared_error: 0.6368\n",
      "Epoch 7/20\n",
      "363/363 [==============================] - 1s 3ms/step - loss: 0.3372 - output_loss: 0.3295 - aux_output_loss: 0.4069 - output_root_mean_squared_error: 0.5740 - aux_output_root_mean_squared_error: 0.6379 - val_loss: 0.3376 - val_output_loss: 0.3304 - val_aux_output_loss: 0.4019 - val_output_root_mean_squared_error: 0.5748 - val_aux_output_root_mean_squared_error: 0.6340\n",
      "Epoch 8/20\n",
      "363/363 [==============================] - 1s 4ms/step - loss: 0.3322 - output_loss: 0.3246 - aux_output_loss: 0.4010 - output_root_mean_squared_error: 0.5697 - aux_output_root_mean_squared_error: 0.6332 - val_loss: 0.3251 - val_output_loss: 0.3177 - val_aux_output_loss: 0.3913 - val_output_root_mean_squared_error: 0.5636 - val_aux_output_root_mean_squared_error: 0.6255\n",
      "Epoch 9/20\n",
      "363/363 [==============================] - 1s 3ms/step - loss: 0.3293 - output_loss: 0.3221 - aux_output_loss: 0.3940 - output_root_mean_squared_error: 0.5675 - aux_output_root_mean_squared_error: 0.6277 - val_loss: 0.3233 - val_output_loss: 0.3161 - val_aux_output_loss: 0.3882 - val_output_root_mean_squared_error: 0.5622 - val_aux_output_root_mean_squared_error: 0.6231\n",
      "Epoch 10/20\n",
      "363/363 [==============================] - 1s 3ms/step - loss: 0.3302 - output_loss: 0.3235 - aux_output_loss: 0.3907 - output_root_mean_squared_error: 0.5687 - aux_output_root_mean_squared_error: 0.6250 - val_loss: 0.3263 - val_output_loss: 0.3200 - val_aux_output_loss: 0.3833 - val_output_root_mean_squared_error: 0.5657 - val_aux_output_root_mean_squared_error: 0.6191\n",
      "Epoch 11/20\n",
      "363/363 [==============================] - 1s 4ms/step - loss: 0.3278 - output_loss: 0.3214 - aux_output_loss: 0.3852 - output_root_mean_squared_error: 0.5669 - aux_output_root_mean_squared_error: 0.6207 - val_loss: 0.3231 - val_output_loss: 0.3166 - val_aux_output_loss: 0.3819 - val_output_root_mean_squared_error: 0.5627 - val_aux_output_root_mean_squared_error: 0.6180\n",
      "Epoch 12/20\n",
      "363/363 [==============================] - 1s 3ms/step - loss: 0.3309 - output_loss: 0.3249 - aux_output_loss: 0.3845 - output_root_mean_squared_error: 0.5700 - aux_output_root_mean_squared_error: 0.6200 - val_loss: 0.3174 - val_output_loss: 0.3109 - val_aux_output_loss: 0.3755 - val_output_root_mean_squared_error: 0.5576 - val_aux_output_root_mean_squared_error: 0.6128\n",
      "Epoch 13/20\n",
      "363/363 [==============================] - 1s 3ms/step - loss: 0.3236 - output_loss: 0.3172 - aux_output_loss: 0.3810 - output_root_mean_squared_error: 0.5632 - aux_output_root_mean_squared_error: 0.6172 - val_loss: 0.3149 - val_output_loss: 0.3086 - val_aux_output_loss: 0.3716 - val_output_root_mean_squared_error: 0.5555 - val_aux_output_root_mean_squared_error: 0.6096\n",
      "Epoch 14/20\n",
      "363/363 [==============================] - 1s 3ms/step - loss: 0.3217 - output_loss: 0.3153 - aux_output_loss: 0.3791 - output_root_mean_squared_error: 0.5615 - aux_output_root_mean_squared_error: 0.6157 - val_loss: 0.3124 - val_output_loss: 0.3063 - val_aux_output_loss: 0.3680 - val_output_root_mean_squared_error: 0.5534 - val_aux_output_root_mean_squared_error: 0.6066\n",
      "Epoch 15/20\n",
      "363/363 [==============================] - 1s 3ms/step - loss: 0.3205 - output_loss: 0.3144 - aux_output_loss: 0.3748 - output_root_mean_squared_error: 0.5607 - aux_output_root_mean_squared_error: 0.6122 - val_loss: 0.3146 - val_output_loss: 0.3086 - val_aux_output_loss: 0.3681 - val_output_root_mean_squared_error: 0.5555 - val_aux_output_root_mean_squared_error: 0.6067\n",
      "Epoch 16/20\n",
      "363/363 [==============================] - 1s 3ms/step - loss: 0.3183 - output_loss: 0.3123 - aux_output_loss: 0.3722 - output_root_mean_squared_error: 0.5589 - aux_output_root_mean_squared_error: 0.6101 - val_loss: 0.3141 - val_output_loss: 0.3081 - val_aux_output_loss: 0.3687 - val_output_root_mean_squared_error: 0.5550 - val_aux_output_root_mean_squared_error: 0.6072\n",
      "Epoch 17/20\n",
      "363/363 [==============================] - 1s 3ms/step - loss: 0.3185 - output_loss: 0.3126 - aux_output_loss: 0.3723 - output_root_mean_squared_error: 0.5591 - aux_output_root_mean_squared_error: 0.6102 - val_loss: 0.3165 - val_output_loss: 0.3109 - val_aux_output_loss: 0.3668 - val_output_root_mean_squared_error: 0.5576 - val_aux_output_root_mean_squared_error: 0.6057\n",
      "Epoch 18/20\n",
      "363/363 [==============================] - 1s 3ms/step - loss: 0.3163 - output_loss: 0.3105 - aux_output_loss: 0.3689 - output_root_mean_squared_error: 0.5572 - aux_output_root_mean_squared_error: 0.6073 - val_loss: 0.3130 - val_output_loss: 0.3072 - val_aux_output_loss: 0.3651 - val_output_root_mean_squared_error: 0.5542 - val_aux_output_root_mean_squared_error: 0.6042\n",
      "Epoch 19/20\n",
      "363/363 [==============================] - 1s 3ms/step - loss: 0.3172 - output_loss: 0.3118 - aux_output_loss: 0.3659 - output_root_mean_squared_error: 0.5584 - aux_output_root_mean_squared_error: 0.6049 - val_loss: 0.3108 - val_output_loss: 0.3053 - val_aux_output_loss: 0.3605 - val_output_root_mean_squared_error: 0.5525 - val_aux_output_root_mean_squared_error: 0.6004\n",
      "Epoch 20/20\n",
      "363/363 [==============================] - 1s 3ms/step - loss: 0.3165 - output_loss: 0.3110 - aux_output_loss: 0.3658 - output_root_mean_squared_error: 0.5577 - aux_output_root_mean_squared_error: 0.6048 - val_loss: 0.3110 - val_output_loss: 0.3055 - val_aux_output_loss: 0.3602 - val_output_root_mean_squared_error: 0.5527 - val_aux_output_root_mean_squared_error: 0.6001\n"
     ]
    }
   ],
   "source": [
    "norm_layer_wide.adapt(X_train_wide)\n",
    "norm_layer_deep.adapt(X_train_deep)\n",
    "\n",
    "y_train_d = {\"output\": y_train, \"aux_output\": y_train}\n",
    "\n",
    "history = model.fit(\n",
    "    X_train_d, y_train_d, epochs=20, \n",
    "    validation_data=(X_train_d, y_train_d)\n",
    ")"
   ]
  },
  {
   "cell_type": "code",
   "execution_count": 98,
   "id": "3ee8258a",
   "metadata": {},
   "outputs": [
    {
     "name": "stdout",
     "output_type": "stream",
     "text": [
      "162/162 [==============================] - 0s 1ms/step - loss: 0.3236 - output_loss: 0.3183 - aux_output_loss: 0.3706 - output_root_mean_squared_error: 0.5642 - aux_output_root_mean_squared_error: 0.6088\n"
     ]
    }
   ],
   "source": [
    "y_test_d = {\"output\": y_test, \"aux_output\": y_test}\n",
    "\n",
    "eval_results = model.evaluate(X_test_d, y_test_d)\n",
    "weighted_sum_of_losses, main_loss, aux_loss, main_rmse, aux_rmse = eval_results"
   ]
  },
  {
   "cell_type": "code",
   "execution_count": 99,
   "id": "dbc97e48",
   "metadata": {},
   "outputs": [
    {
     "name": "stdout",
     "output_type": "stream",
     "text": [
      "1/1 [==============================] - 0s 76ms/step\n"
     ]
    }
   ],
   "source": [
    "y_pred_main, y_pred_aux = model.predict((X_new_wide, X_new_deep))"
   ]
  },
  {
   "cell_type": "code",
   "execution_count": 100,
   "id": "43945586",
   "metadata": {},
   "outputs": [
    {
     "name": "stdout",
     "output_type": "stream",
     "text": [
      "1/1 [==============================] - 0s 24ms/step\n"
     ]
    }
   ],
   "source": [
    "y_pred_tuple = model.predict((X_new_wide, X_new_deep))\n",
    "y_pred = dict(zip(model.output_names, y_pred_tuple))"
   ]
  },
  {
   "cell_type": "code",
   "execution_count": null,
   "id": "110b563a",
   "metadata": {},
   "outputs": [],
   "source": []
  }
 ],
 "metadata": {
  "kernelspec": {
   "display_name": "Python 3 (ipykernel)",
   "language": "python",
   "name": "python3"
  },
  "language_info": {
   "codemirror_mode": {
    "name": "ipython",
    "version": 3
   },
   "file_extension": ".py",
   "mimetype": "text/x-python",
   "name": "python",
   "nbconvert_exporter": "python",
   "pygments_lexer": "ipython3",
   "version": "3.9.7"
  }
 },
 "nbformat": 4,
 "nbformat_minor": 5
}
